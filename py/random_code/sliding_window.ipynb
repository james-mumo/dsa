{
 "cells": [
  {
   "cell_type": "code",
   "execution_count": 1,
   "id": "ae6eba48-2d19-4d22-b8a3-15bf72e725d8",
   "metadata": {
    "tags": []
   },
   "outputs": [],
   "source": [
    "# init pointers\n",
    "\n",
    "# start and end and also how it chnages\n",
    "\n",
    "# how it should expand and the range should change"
   ]
  },
  {
   "cell_type": "code",
   "execution_count": null,
   "id": "2aa87d40-be70-4972-8589-fe03e477966f",
   "metadata": {},
   "outputs": [],
   "source": [
    "def two_sum(nums, target):\n",
    "    left, right = 0, len(nums)-1\n",
    "    \n",
    "    while left<right:\n",
    "        "
   ]
  }
 ],
 "metadata": {
  "kernelspec": {
   "display_name": "Python 3 (ipykernel)",
   "language": "python",
   "name": "python3"
  },
  "language_info": {
   "codemirror_mode": {
    "name": "ipython",
    "version": 3
   },
   "file_extension": ".py",
   "mimetype": "text/x-python",
   "name": "python",
   "nbconvert_exporter": "python",
   "pygments_lexer": "ipython3",
   "version": "3.11.5"
  },
  "toc-autonumbering": true,
  "toc-showcode": true,
  "toc-showmarkdowntxt": true
 },
 "nbformat": 4,
 "nbformat_minor": 5
}
